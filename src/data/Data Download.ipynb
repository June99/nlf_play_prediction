{
 "cells": [
  {
   "cell_type": "code",
   "execution_count": 56,
   "metadata": {
    "collapsed": true
   },
   "outputs": [],
   "source": [
    "# imports\n",
    "import pandas as pd\n",
    "import numpy as np\n",
    "\n",
    "# show multiple outputs from one cell\n",
    "from IPython.core.interactiveshell import InteractiveShell\n",
    "InteractiveShell.ast_node_interactivity = \"all\""
   ]
  },
  {
   "cell_type": "code",
   "execution_count": 2,
   "outputs": [],
   "source": [
    "# import os\n",
    "# os.getcwd()\n",
    "# os.chdir('''C:/Users/Scott/Documents/DSC672/Project''')"
   ],
   "metadata": {
    "collapsed": false,
    "pycharm": {
     "name": "#%%\n"
    }
   }
  },
  {
   "cell_type": "code",
   "execution_count": 75,
   "outputs": [],
   "source": [
    "# odds_18 = pd.read_excel('nfl odds 2018-19.xlsx')\n",
    "odds_19 = pd.read_excel('nfl odds 2019-20.xlsx')"
   ],
   "metadata": {
    "collapsed": false,
    "pycharm": {
     "name": "#%%\n"
    }
   }
  },
  {
   "cell_type": "code",
   "execution_count": 76,
   "outputs": [],
   "source": [
    "def to_date(dt):\n",
    "    m = str(dt)[:-2]\n",
    "    d = str(dt)[-2:]\n",
    "    y = '2019'\n",
    "    if int(m) < 3:\n",
    "        y = '2020'\n",
    "    date = y + m + d\n",
    "    return pd.to_datetime(date, format='%Y%m%d')"
   ],
   "metadata": {
    "collapsed": false,
    "pycharm": {
     "name": "#%%\n"
    }
   }
  },
  {
   "cell_type": "code",
   "execution_count": 77,
   "outputs": [],
   "source": [
    "odds_19['Date'] = odds_19['Date'].apply(to_date)"
   ],
   "metadata": {
    "collapsed": false,
    "pycharm": {
     "name": "#%%\n"
    }
   }
  },
  {
   "cell_type": "code",
   "execution_count": 78,
   "outputs": [],
   "source": [
    "def to_abbr(tm):\n",
    "    team_dict = {\n",
    "        'GreenBay' : 'GB',\n",
    "        'Chicago' : 'CHI',\n",
    "        'Atlanta' : 'ATL',\n",
    "        'Minnesota' : 'MIN',\n",
    "        'Washington' : 'WAS',\n",
    "        'Philadelphia' : 'PHI',\n",
    "        'Buffalo' : 'BUF',\n",
    "        'NYJets' : 'NYJ',\n",
    "        'Baltimore' : 'BAL',\n",
    "        'Miami' : 'MIA',\n",
    "        'SanFrancisco' : 'SF',\n",
    "        'TampaBay' : 'TB',\n",
    "        'KansasCity' : 'KC',\n",
    "        'Jacksonville' : 'JAX',\n",
    "        'Tennessee' : 'TEN',\n",
    "        'Cleveland' : 'CLE',\n",
    "        'LARams' : 'LA',\n",
    "        'Carolina' : 'CAR',\n",
    "        'Detroit' : 'DET',\n",
    "        'Arizona' : 'ARI',\n",
    "        'Cincinnati' : 'CIN',\n",
    "        'Seattle' : 'SEA',\n",
    "        'Indianapolis' : 'IND',\n",
    "        'LAChargers' : 'LAC',\n",
    "        'NYGiants' : 'NYG',\n",
    "        'Dallas' : 'DAL',\n",
    "        'Pittsburgh' : 'PIT',\n",
    "        'NewEngland' : 'NE',\n",
    "        'Houston' : 'HOU',\n",
    "        'NewOrleans' : 'NO',\n",
    "        'Denver' : 'DEN',\n",
    "        'Oakland' : 'OAK'\n",
    "    }\n",
    "    return team_dict[tm]"
   ],
   "metadata": {
    "collapsed": false,
    "pycharm": {
     "name": "#%%\n"
    }
   }
  },
  {
   "cell_type": "code",
   "execution_count": 79,
   "outputs": [],
   "source": [
    "odds_19['Team'] = odds_19['Team'].apply(to_abbr)"
   ],
   "metadata": {
    "collapsed": false,
    "pycharm": {
     "name": "#%%\n"
    }
   }
  },
  {
   "cell_type": "code",
   "execution_count": 80,
   "outputs": [],
   "source": [
    "odds_19.loc[(odds_19['Close'] == 'pk'), 'Close'] = 0"
   ],
   "metadata": {
    "collapsed": false,
    "pycharm": {
     "name": "#%%\n"
    }
   }
  },
  {
   "cell_type": "code",
   "execution_count": 81,
   "outputs": [],
   "source": [
    "odds_19[['Close', 'ML']] = odds_19[['Close', 'ML']].astype(float)"
   ],
   "metadata": {
    "collapsed": false,
    "pycharm": {
     "name": "#%%\n"
    }
   }
  },
  {
   "cell_type": "code",
   "execution_count": 82,
   "outputs": [],
   "source": [
    "pr_pts = []\n",
    "wps = []\n",
    "for idx, row in odds_19.iterrows():\n",
    "    if row['ML'] > 0:\n",
    "        total = row['Close']\n",
    "        if row['VH'] == 'V':\n",
    "            spd = odds_19.iloc[idx+1]['Close']\n",
    "        else:\n",
    "            spd = odds_19.iloc[idx-1]['Close']\n",
    "        proj_pts = (total - spd) / 2\n",
    "        win_pb = 100 / (row['ML'] + 100)\n",
    "    else:\n",
    "        spd = row['Close']\n",
    "        if row['VH'] == 'V':\n",
    "            total = odds_19.iloc[idx+1]['Close']\n",
    "        else:\n",
    "            total = odds_19.iloc[idx-1]['Close']\n",
    "        proj_pts = (total + spd) / 2\n",
    "        win_pb = -row['ML'] / (100 - row['ML'])\n",
    "\n",
    "    pr_pts.append(proj_pts)\n",
    "    wps.append(win_pb)\n",
    "\n",
    "odds_19['Projected Pts'] = pr_pts\n",
    "odds_19['Win Prob'] = wps"
   ],
   "metadata": {
    "collapsed": false,
    "pycharm": {
     "name": "#%%\n"
    }
   }
  },
  {
   "cell_type": "code",
   "execution_count": 84,
   "outputs": [
    {
     "data": {
      "text/plain": "        Date  Rot VH Team  1st  2nd  3rd  4th  Final  Open  Close     ML  \\\n0 2019-09-05  451  V   GB    0    7    0    3     10    46   46.5  140.0   \n1 2019-09-05  452  H  CHI    3    0    0    0      3   3.5    3.0 -160.0   \n2 2019-09-08  453  V  ATL    0    0    0   12     12  47.5   46.5  160.0   \n3 2019-09-08  454  H  MIN   14    7    7    0     28   4.5    3.5 -190.0   \n4 2019-09-08  455  V  WAS   10   10    0    7     27  46.5   44.0  425.0   \n\n     2H  Projected Pts  Win Prob  \n0    23          21.75  0.416667  \n1     3          24.75  0.615385  \n2   2.5          21.50  0.384615  \n3  22.5          25.00  0.655172  \n4    23          17.00  0.190476  ",
      "text/html": "<div>\n<style scoped>\n    .dataframe tbody tr th:only-of-type {\n        vertical-align: middle;\n    }\n\n    .dataframe tbody tr th {\n        vertical-align: top;\n    }\n\n    .dataframe thead th {\n        text-align: right;\n    }\n</style>\n<table border=\"1\" class=\"dataframe\">\n  <thead>\n    <tr style=\"text-align: right;\">\n      <th></th>\n      <th>Date</th>\n      <th>Rot</th>\n      <th>VH</th>\n      <th>Team</th>\n      <th>1st</th>\n      <th>2nd</th>\n      <th>3rd</th>\n      <th>4th</th>\n      <th>Final</th>\n      <th>Open</th>\n      <th>Close</th>\n      <th>ML</th>\n      <th>2H</th>\n      <th>Projected Pts</th>\n      <th>Win Prob</th>\n    </tr>\n  </thead>\n  <tbody>\n    <tr>\n      <th>0</th>\n      <td>2019-09-05</td>\n      <td>451</td>\n      <td>V</td>\n      <td>GB</td>\n      <td>0</td>\n      <td>7</td>\n      <td>0</td>\n      <td>3</td>\n      <td>10</td>\n      <td>46</td>\n      <td>46.5</td>\n      <td>140.0</td>\n      <td>23</td>\n      <td>21.75</td>\n      <td>0.416667</td>\n    </tr>\n    <tr>\n      <th>1</th>\n      <td>2019-09-05</td>\n      <td>452</td>\n      <td>H</td>\n      <td>CHI</td>\n      <td>3</td>\n      <td>0</td>\n      <td>0</td>\n      <td>0</td>\n      <td>3</td>\n      <td>3.5</td>\n      <td>3.0</td>\n      <td>-160.0</td>\n      <td>3</td>\n      <td>24.75</td>\n      <td>0.615385</td>\n    </tr>\n    <tr>\n      <th>2</th>\n      <td>2019-09-08</td>\n      <td>453</td>\n      <td>V</td>\n      <td>ATL</td>\n      <td>0</td>\n      <td>0</td>\n      <td>0</td>\n      <td>12</td>\n      <td>12</td>\n      <td>47.5</td>\n      <td>46.5</td>\n      <td>160.0</td>\n      <td>2.5</td>\n      <td>21.50</td>\n      <td>0.384615</td>\n    </tr>\n    <tr>\n      <th>3</th>\n      <td>2019-09-08</td>\n      <td>454</td>\n      <td>H</td>\n      <td>MIN</td>\n      <td>14</td>\n      <td>7</td>\n      <td>7</td>\n      <td>0</td>\n      <td>28</td>\n      <td>4.5</td>\n      <td>3.5</td>\n      <td>-190.0</td>\n      <td>22.5</td>\n      <td>25.00</td>\n      <td>0.655172</td>\n    </tr>\n    <tr>\n      <th>4</th>\n      <td>2019-09-08</td>\n      <td>455</td>\n      <td>V</td>\n      <td>WAS</td>\n      <td>10</td>\n      <td>10</td>\n      <td>0</td>\n      <td>7</td>\n      <td>27</td>\n      <td>46.5</td>\n      <td>44.0</td>\n      <td>425.0</td>\n      <td>23</td>\n      <td>17.00</td>\n      <td>0.190476</td>\n    </tr>\n  </tbody>\n</table>\n</div>"
     },
     "execution_count": 84,
     "metadata": {},
     "output_type": "execute_result"
    }
   ],
   "source": [
    "odds_19.head()"
   ],
   "metadata": {
    "collapsed": false,
    "pycharm": {
     "name": "#%%\n"
    }
   }
  },
  {
   "cell_type": "code",
   "execution_count": 85,
   "outputs": [],
   "source": [
    "pbp = pd.read_csv('https://raw.githubusercontent.com/ryurko/nflscrapR-data/master/play_by_play_data/regular_season/reg_pbp_2019.csv', low_memory=False)"
   ],
   "metadata": {
    "collapsed": false,
    "pycharm": {
     "name": "#%%\n"
    }
   }
  },
  {
   "cell_type": "code",
   "execution_count": 86,
   "outputs": [],
   "source": [
    "pbp['game_date'] = pd.to_datetime(pbp['game_date'])"
   ],
   "metadata": {
    "collapsed": false,
    "pycharm": {
     "name": "#%%\n"
    }
   }
  },
  {
   "cell_type": "code",
   "execution_count": 87,
   "outputs": [],
   "source": [
    "combined_df = pd.merge(pbp, odds_19[['Date', 'Team', 'Projected Pts', 'Win Prob']], left_on=['game_date', 'posteam'], right_on=['Date', 'Team'], how='left').drop(columns=['Date', 'Team'])"
   ],
   "metadata": {
    "collapsed": false,
    "pycharm": {
     "name": "#%%\n"
    }
   }
  },
  {
   "cell_type": "code",
   "execution_count": 88,
   "outputs": [
    {
     "data": {
      "text/plain": "   play_id     game_id home_team away_team posteam posteam_type defteam  \\\n0       35  2019090500       CHI        GB      GB         away     CHI   \n1       50  2019090500       CHI        GB      GB         away     CHI   \n2       71  2019090500       CHI        GB      GB         away     CHI   \n3       95  2019090500       CHI        GB      GB         away     CHI   \n4      125  2019090500       CHI        GB      GB         away     CHI   \n\n  side_of_field  yardline_100  game_date  ...  penalty_yards  \\\n0           CHI          35.0 2019-09-05  ...            NaN   \n1            GB          75.0 2019-09-05  ...            NaN   \n2            GB          75.0 2019-09-05  ...            NaN   \n3            GB          75.0 2019-09-05  ...            NaN   \n4            GB          85.0 2019-09-05  ...            NaN   \n\n   replay_or_challenge  replay_or_challenge_result penalty_type  \\\n0                    0                         NaN          NaN   \n1                    0                         NaN          NaN   \n2                    0                         NaN          NaN   \n3                    0                         NaN          NaN   \n4                    0                         NaN          NaN   \n\n   defensive_two_point_attempt  defensive_two_point_conv  \\\n0                          0.0                       0.0   \n1                          0.0                       0.0   \n2                          0.0                       0.0   \n3                          0.0                       0.0   \n4                          0.0                       0.0   \n\n   defensive_extra_point_attempt  defensive_extra_point_conv  Projected Pts  \\\n0                            0.0                         0.0          21.75   \n1                            0.0                         0.0          21.75   \n2                            0.0                         0.0          21.75   \n3                            0.0                         0.0          21.75   \n4                            0.0                         0.0          21.75   \n\n   Win Prob  \n0  0.416667  \n1  0.416667  \n2  0.416667  \n3  0.416667  \n4  0.416667  \n\n[5 rows x 258 columns]",
      "text/html": "<div>\n<style scoped>\n    .dataframe tbody tr th:only-of-type {\n        vertical-align: middle;\n    }\n\n    .dataframe tbody tr th {\n        vertical-align: top;\n    }\n\n    .dataframe thead th {\n        text-align: right;\n    }\n</style>\n<table border=\"1\" class=\"dataframe\">\n  <thead>\n    <tr style=\"text-align: right;\">\n      <th></th>\n      <th>play_id</th>\n      <th>game_id</th>\n      <th>home_team</th>\n      <th>away_team</th>\n      <th>posteam</th>\n      <th>posteam_type</th>\n      <th>defteam</th>\n      <th>side_of_field</th>\n      <th>yardline_100</th>\n      <th>game_date</th>\n      <th>...</th>\n      <th>penalty_yards</th>\n      <th>replay_or_challenge</th>\n      <th>replay_or_challenge_result</th>\n      <th>penalty_type</th>\n      <th>defensive_two_point_attempt</th>\n      <th>defensive_two_point_conv</th>\n      <th>defensive_extra_point_attempt</th>\n      <th>defensive_extra_point_conv</th>\n      <th>Projected Pts</th>\n      <th>Win Prob</th>\n    </tr>\n  </thead>\n  <tbody>\n    <tr>\n      <th>0</th>\n      <td>35</td>\n      <td>2019090500</td>\n      <td>CHI</td>\n      <td>GB</td>\n      <td>GB</td>\n      <td>away</td>\n      <td>CHI</td>\n      <td>CHI</td>\n      <td>35.0</td>\n      <td>2019-09-05</td>\n      <td>...</td>\n      <td>NaN</td>\n      <td>0</td>\n      <td>NaN</td>\n      <td>NaN</td>\n      <td>0.0</td>\n      <td>0.0</td>\n      <td>0.0</td>\n      <td>0.0</td>\n      <td>21.75</td>\n      <td>0.416667</td>\n    </tr>\n    <tr>\n      <th>1</th>\n      <td>50</td>\n      <td>2019090500</td>\n      <td>CHI</td>\n      <td>GB</td>\n      <td>GB</td>\n      <td>away</td>\n      <td>CHI</td>\n      <td>GB</td>\n      <td>75.0</td>\n      <td>2019-09-05</td>\n      <td>...</td>\n      <td>NaN</td>\n      <td>0</td>\n      <td>NaN</td>\n      <td>NaN</td>\n      <td>0.0</td>\n      <td>0.0</td>\n      <td>0.0</td>\n      <td>0.0</td>\n      <td>21.75</td>\n      <td>0.416667</td>\n    </tr>\n    <tr>\n      <th>2</th>\n      <td>71</td>\n      <td>2019090500</td>\n      <td>CHI</td>\n      <td>GB</td>\n      <td>GB</td>\n      <td>away</td>\n      <td>CHI</td>\n      <td>GB</td>\n      <td>75.0</td>\n      <td>2019-09-05</td>\n      <td>...</td>\n      <td>NaN</td>\n      <td>0</td>\n      <td>NaN</td>\n      <td>NaN</td>\n      <td>0.0</td>\n      <td>0.0</td>\n      <td>0.0</td>\n      <td>0.0</td>\n      <td>21.75</td>\n      <td>0.416667</td>\n    </tr>\n    <tr>\n      <th>3</th>\n      <td>95</td>\n      <td>2019090500</td>\n      <td>CHI</td>\n      <td>GB</td>\n      <td>GB</td>\n      <td>away</td>\n      <td>CHI</td>\n      <td>GB</td>\n      <td>75.0</td>\n      <td>2019-09-05</td>\n      <td>...</td>\n      <td>NaN</td>\n      <td>0</td>\n      <td>NaN</td>\n      <td>NaN</td>\n      <td>0.0</td>\n      <td>0.0</td>\n      <td>0.0</td>\n      <td>0.0</td>\n      <td>21.75</td>\n      <td>0.416667</td>\n    </tr>\n    <tr>\n      <th>4</th>\n      <td>125</td>\n      <td>2019090500</td>\n      <td>CHI</td>\n      <td>GB</td>\n      <td>GB</td>\n      <td>away</td>\n      <td>CHI</td>\n      <td>GB</td>\n      <td>85.0</td>\n      <td>2019-09-05</td>\n      <td>...</td>\n      <td>NaN</td>\n      <td>0</td>\n      <td>NaN</td>\n      <td>NaN</td>\n      <td>0.0</td>\n      <td>0.0</td>\n      <td>0.0</td>\n      <td>0.0</td>\n      <td>21.75</td>\n      <td>0.416667</td>\n    </tr>\n  </tbody>\n</table>\n<p>5 rows × 258 columns</p>\n</div>"
     },
     "execution_count": 88,
     "metadata": {},
     "output_type": "execute_result"
    }
   ],
   "source": [
    "combined_df.head()"
   ],
   "metadata": {
    "collapsed": false,
    "pycharm": {
     "name": "#%%\n"
    }
   }
  },
  {
   "cell_type": "code",
   "execution_count": 89,
   "outputs": [],
   "source": [
    "madden_ratings = pd.read_excel('madden_nfl_20_final_ovr_ratings_1.xlsx', header=[0,1])"
   ],
   "metadata": {
    "collapsed": false,
    "pycharm": {
     "name": "#%%\n"
    }
   }
  },
  {
   "cell_type": "code",
   "execution_count": 90,
   "outputs": [
    {
     "data": {
      "text/plain": "  2019 Arizona Cardinals                        2019 Atlanta Falcons  \\\n                Position         Player Overall             Position   \n0                     QB   Kyler Murray    75.0                   QB   \n1                     QB  Brett Hundley    64.0                   QB   \n2                     HB   Kenyan Drake    81.0                   QB   \n3                     HB  David Johnson    77.0                   HB   \n4                     HB  Chase Edmonds    74.0                   HB   \n\n                           2019 Baltimore Ravens                              \\\n            Player Overall              Position              Player Overall   \n0        Matt Ryan    87.0                    QB       Lamar Jackson    92.0   \n1      Matt Schaub    58.0                    QB  Robert Griffin III    66.0   \n2     Kurt Benkert    48.0                    QB      Trace McSorley    55.0   \n3  Devonta Freeman    85.0                    HB      Mark Ingram II    86.0   \n4        Ito Smith    77.0                    HB         Gus Edwards    77.0   \n\n  2019 Buffalo Bills  ... 2019 Seattle Seahawks 2019 Tampa Bay Buccaneers  \\\n            Position  ...               Overall                  Position   \n0                 QB  ...                  97.0                        QB   \n1                 QB  ...                  57.0                        QB   \n2                 HB  ...                  86.0                        QB   \n3                 HB  ...                  84.0                        HB   \n4                 HB  ...                  79.0                        HB   \n\n                           2019 Tennessee Titans                          \\\n            Player Overall              Position          Player Overall   \n0   Jameis Winston    78.0                    QB  Ryan Tannehill    80.0   \n1   Blaine Gabbert    61.0                    QB  Marcus Mariota    68.0   \n2     Ryan Griffin    54.0                    HB   Derrick Henry    91.0   \n3  Ronald Jones II    77.0                    HB      Dion Lewis    78.0   \n4    Peyton Barber    76.0                    HB  David Fluellen    57.0   \n\n  2019 Washington Redskins                              \n                  Position              Player Overall  \n0                       QB  Dwayne Haskins Jr.    70.0  \n1                       QB          Alex Smith    69.0  \n2                       QB         Case Keenum    68.0  \n3                       QB          Colt McCoy    61.0  \n4                       QB        Josh Woodrum    43.0  \n\n[5 rows x 96 columns]",
      "text/html": "<div>\n<style scoped>\n    .dataframe tbody tr th:only-of-type {\n        vertical-align: middle;\n    }\n\n    .dataframe tbody tr th {\n        vertical-align: top;\n    }\n\n    .dataframe thead tr th {\n        text-align: left;\n    }\n</style>\n<table border=\"1\" class=\"dataframe\">\n  <thead>\n    <tr>\n      <th></th>\n      <th colspan=\"3\" halign=\"left\">2019 Arizona Cardinals</th>\n      <th colspan=\"3\" halign=\"left\">2019 Atlanta Falcons</th>\n      <th colspan=\"3\" halign=\"left\">2019 Baltimore Ravens</th>\n      <th>2019 Buffalo Bills</th>\n      <th>...</th>\n      <th>2019 Seattle Seahawks</th>\n      <th colspan=\"3\" halign=\"left\">2019 Tampa Bay Buccaneers</th>\n      <th colspan=\"3\" halign=\"left\">2019 Tennessee Titans</th>\n      <th colspan=\"3\" halign=\"left\">2019 Washington Redskins</th>\n    </tr>\n    <tr>\n      <th></th>\n      <th>Position</th>\n      <th>Player</th>\n      <th>Overall</th>\n      <th>Position</th>\n      <th>Player</th>\n      <th>Overall</th>\n      <th>Position</th>\n      <th>Player</th>\n      <th>Overall</th>\n      <th>Position</th>\n      <th>...</th>\n      <th>Overall</th>\n      <th>Position</th>\n      <th>Player</th>\n      <th>Overall</th>\n      <th>Position</th>\n      <th>Player</th>\n      <th>Overall</th>\n      <th>Position</th>\n      <th>Player</th>\n      <th>Overall</th>\n    </tr>\n  </thead>\n  <tbody>\n    <tr>\n      <th>0</th>\n      <td>QB</td>\n      <td>Kyler Murray</td>\n      <td>75.0</td>\n      <td>QB</td>\n      <td>Matt Ryan</td>\n      <td>87.0</td>\n      <td>QB</td>\n      <td>Lamar Jackson</td>\n      <td>92.0</td>\n      <td>QB</td>\n      <td>...</td>\n      <td>97.0</td>\n      <td>QB</td>\n      <td>Jameis Winston</td>\n      <td>78.0</td>\n      <td>QB</td>\n      <td>Ryan Tannehill</td>\n      <td>80.0</td>\n      <td>QB</td>\n      <td>Dwayne Haskins Jr.</td>\n      <td>70.0</td>\n    </tr>\n    <tr>\n      <th>1</th>\n      <td>QB</td>\n      <td>Brett Hundley</td>\n      <td>64.0</td>\n      <td>QB</td>\n      <td>Matt Schaub</td>\n      <td>58.0</td>\n      <td>QB</td>\n      <td>Robert Griffin III</td>\n      <td>66.0</td>\n      <td>QB</td>\n      <td>...</td>\n      <td>57.0</td>\n      <td>QB</td>\n      <td>Blaine Gabbert</td>\n      <td>61.0</td>\n      <td>QB</td>\n      <td>Marcus Mariota</td>\n      <td>68.0</td>\n      <td>QB</td>\n      <td>Alex Smith</td>\n      <td>69.0</td>\n    </tr>\n    <tr>\n      <th>2</th>\n      <td>HB</td>\n      <td>Kenyan Drake</td>\n      <td>81.0</td>\n      <td>QB</td>\n      <td>Kurt Benkert</td>\n      <td>48.0</td>\n      <td>QB</td>\n      <td>Trace McSorley</td>\n      <td>55.0</td>\n      <td>HB</td>\n      <td>...</td>\n      <td>86.0</td>\n      <td>QB</td>\n      <td>Ryan Griffin</td>\n      <td>54.0</td>\n      <td>HB</td>\n      <td>Derrick Henry</td>\n      <td>91.0</td>\n      <td>QB</td>\n      <td>Case Keenum</td>\n      <td>68.0</td>\n    </tr>\n    <tr>\n      <th>3</th>\n      <td>HB</td>\n      <td>David Johnson</td>\n      <td>77.0</td>\n      <td>HB</td>\n      <td>Devonta Freeman</td>\n      <td>85.0</td>\n      <td>HB</td>\n      <td>Mark Ingram II</td>\n      <td>86.0</td>\n      <td>HB</td>\n      <td>...</td>\n      <td>84.0</td>\n      <td>HB</td>\n      <td>Ronald Jones II</td>\n      <td>77.0</td>\n      <td>HB</td>\n      <td>Dion Lewis</td>\n      <td>78.0</td>\n      <td>QB</td>\n      <td>Colt McCoy</td>\n      <td>61.0</td>\n    </tr>\n    <tr>\n      <th>4</th>\n      <td>HB</td>\n      <td>Chase Edmonds</td>\n      <td>74.0</td>\n      <td>HB</td>\n      <td>Ito Smith</td>\n      <td>77.0</td>\n      <td>HB</td>\n      <td>Gus Edwards</td>\n      <td>77.0</td>\n      <td>HB</td>\n      <td>...</td>\n      <td>79.0</td>\n      <td>HB</td>\n      <td>Peyton Barber</td>\n      <td>76.0</td>\n      <td>HB</td>\n      <td>David Fluellen</td>\n      <td>57.0</td>\n      <td>QB</td>\n      <td>Josh Woodrum</td>\n      <td>43.0</td>\n    </tr>\n  </tbody>\n</table>\n<p>5 rows × 96 columns</p>\n</div>"
     },
     "execution_count": 90,
     "metadata": {},
     "output_type": "execute_result"
    }
   ],
   "source": [
    "madden_ratings.head()"
   ],
   "metadata": {
    "collapsed": false,
    "pycharm": {
     "name": "#%%\n"
    }
   }
  },
  {
   "cell_type": "code",
   "execution_count": 91,
   "outputs": [],
   "source": [
    "madden_ratings.columns = madden_ratings.columns.swaplevel(0,1)\n"
   ],
   "metadata": {
    "collapsed": false,
    "pycharm": {
     "name": "#%%\n"
    }
   }
  },
  {
   "cell_type": "code",
   "execution_count": 92,
   "outputs": [],
   "source": [
    "madden_ratings = madden_ratings.stack(level=1)"
   ],
   "metadata": {
    "collapsed": false,
    "pycharm": {
     "name": "#%%\n"
    }
   }
  },
  {
   "cell_type": "code",
   "execution_count": 93,
   "outputs": [],
   "source": [
    "madden_ratings.reset_index(inplace=True)"
   ],
   "metadata": {
    "collapsed": false,
    "pycharm": {
     "name": "#%%\n"
    }
   }
  },
  {
   "cell_type": "code",
   "execution_count": 94,
   "outputs": [],
   "source": [
    "madden_ratings.drop(columns=['level_0', 'Player'], inplace=True)\n"
   ],
   "metadata": {
    "collapsed": false,
    "pycharm": {
     "name": "#%%\n"
    }
   }
  },
  {
   "cell_type": "code",
   "execution_count": 95,
   "outputs": [],
   "source": [
    "def to_abbr_long(tm):\n",
    "    team_dict = {\n",
    "        'Green Bay Packers' : 'GB',\n",
    "        'Chicago Bears' : 'CHI',\n",
    "        'Atlanta Falcons' : 'ATL',\n",
    "        'Minnesota Vikings' : 'MIN',\n",
    "        'Washington Redskins' : 'WAS',\n",
    "        'Philadelphia Eagles' : 'PHI',\n",
    "        'Buffalo Bills' : 'BUF',\n",
    "        'New York Jets' : 'NYJ',\n",
    "        'Baltimore Ravens' : 'BAL',\n",
    "        'Miami Dolphins' : 'MIA',\n",
    "        'San Francisco 49ers' : 'SF',\n",
    "        'Tampa Bay Buccaneers' : 'TB',\n",
    "        'Kansas City Chiefs' : 'KC',\n",
    "        'Jacksonville Jaguars' : 'JAX',\n",
    "        'Tennessee Titans' : 'TEN',\n",
    "        'Cleveland Browns' : 'CLE',\n",
    "        'Los Angeles Rams' : 'LA',\n",
    "        'Carolina Panthers' : 'CAR',\n",
    "        'Detroit Lions' : 'DET',\n",
    "        'Arizona Cardinals' : 'ARI',\n",
    "        'Cincinnati Bengals' : 'CIN',\n",
    "        'Seattle Seahawks' : 'SEA',\n",
    "        'Indianapolis Colts' : 'IND',\n",
    "        'Los Angeles Chargers' : 'LAC',\n",
    "        'New York Giants' : 'NYG',\n",
    "        'Dallas Cowboys' : 'DAL',\n",
    "        'Pittsburgh Steelers' : 'PIT',\n",
    "        'New England Patriots' : 'NE',\n",
    "        'Houston Texans' : 'HOU',\n",
    "        'New Orleans Saints' : 'NO',\n",
    "        'Denver Broncos' : 'DEN',\n",
    "        'Oakland Raiders' : 'OAK'\n",
    "    }\n",
    "    return team_dict[tm]"
   ],
   "metadata": {
    "collapsed": false,
    "pycharm": {
     "name": "#%%\n"
    }
   }
  },
  {
   "cell_type": "code",
   "execution_count": 96,
   "outputs": [],
   "source": [
    "team_names = madden_ratings['level_1'].str.split(\" \", n= 1, expand= True)"
   ],
   "metadata": {
    "collapsed": false,
    "pycharm": {
     "name": "#%%\n"
    }
   }
  },
  {
   "cell_type": "code",
   "execution_count": 97,
   "outputs": [],
   "source": [
    "madden_ratings['team'] = team_names[1]"
   ],
   "metadata": {
    "collapsed": false,
    "pycharm": {
     "name": "#%%\n"
    }
   }
  },
  {
   "cell_type": "code",
   "execution_count": 98,
   "outputs": [],
   "source": [
    "madden_ratings['team'] = madden_ratings['team'].apply(to_abbr_long)"
   ],
   "metadata": {
    "collapsed": false,
    "pycharm": {
     "name": "#%%\n"
    }
   }
  },
  {
   "cell_type": "code",
   "execution_count": 99,
   "outputs": [],
   "source": [
    "madden_ratings.drop(columns='level_1', inplace=True)"
   ],
   "metadata": {
    "collapsed": false,
    "pycharm": {
     "name": "#%%\n"
    }
   }
  },
  {
   "cell_type": "code",
   "execution_count": 100,
   "outputs": [],
   "source": [
    "teams_best_players = madden_ratings.groupby(['team', 'Position']).max().reset_index()"
   ],
   "metadata": {
    "collapsed": false,
    "pycharm": {
     "name": "#%%\n"
    }
   }
  },
  {
   "cell_type": "code",
   "execution_count": 101,
   "outputs": [],
   "source": [
    "qb_ratings = teams_best_players[teams_best_players['Position'] == 'QB'].reset_index(drop=True).drop(columns='Position').groupby('team').mean()"
   ],
   "metadata": {
    "collapsed": false,
    "pycharm": {
     "name": "#%%\n"
    }
   }
  },
  {
   "cell_type": "code",
   "execution_count": 102,
   "outputs": [],
   "source": [
    "ol_ratings = teams_best_players[teams_best_players['Position'].isin(['LT', 'LG', 'C', 'RG', 'RT'])].reset_index(drop=True).drop(columns='Position').groupby('team').mean()"
   ],
   "metadata": {
    "collapsed": false,
    "pycharm": {
     "name": "#%%\n"
    }
   }
  },
  {
   "cell_type": "code",
   "execution_count": 103,
   "outputs": [],
   "source": [
    "lb_ratings = teams_best_players[teams_best_players['Position'].isin(['LOLB', 'MLB', 'ROLB'])].reset_index(drop=True).drop(columns='Position').groupby('team').mean()"
   ],
   "metadata": {
    "collapsed": false,
    "pycharm": {
     "name": "#%%\n"
    }
   }
  },
  {
   "cell_type": "code",
   "execution_count": 104,
   "outputs": [],
   "source": [
    "de_ratings = teams_best_players[teams_best_players['Position'].isin(['LE', 'RE'])].reset_index(drop=True).drop(columns='Position').groupby('team').mean()\n"
   ],
   "metadata": {
    "collapsed": false,
    "pycharm": {
     "name": "#%%\n"
    }
   }
  },
  {
   "cell_type": "code",
   "execution_count": 105,
   "outputs": [],
   "source": [
    "sfty_ratings = teams_best_players[teams_best_players['Position'].isin(['SS', 'FS'])].reset_index(drop=True).drop(columns='Position').groupby('team').mean()"
   ],
   "metadata": {
    "collapsed": false,
    "pycharm": {
     "name": "#%%\n"
    }
   }
  },
  {
   "cell_type": "code",
   "execution_count": 106,
   "outputs": [],
   "source": [
    "teams_best_2_players = madden_ratings.groupby(['team', 'Position']).apply(lambda x: x.sort_values([\"Overall\"], ascending=False)).reset_index(drop=True).groupby(['team', 'Position']).head(2)\n"
   ],
   "metadata": {
    "collapsed": false,
    "pycharm": {
     "name": "#%%\n"
    }
   }
  },
  {
   "cell_type": "code",
   "execution_count": 107,
   "outputs": [],
   "source": [
    "rb_ratings = teams_best_2_players[teams_best_2_players['Position'] == 'HB'].reset_index(drop=True).drop(columns='Position').groupby('team').mean()"
   ],
   "metadata": {
    "collapsed": false,
    "pycharm": {
     "name": "#%%\n"
    }
   }
  },
  {
   "cell_type": "code",
   "execution_count": 108,
   "outputs": [],
   "source": [
    "wr_ratings = teams_best_2_players[teams_best_2_players['Position'] == 'WR'].reset_index(drop=True).drop(columns='Position').groupby('team').mean()"
   ],
   "metadata": {
    "collapsed": false,
    "pycharm": {
     "name": "#%%\n"
    }
   }
  },
  {
   "cell_type": "code",
   "execution_count": 109,
   "outputs": [],
   "source": [
    "te_ratings = teams_best_2_players[teams_best_2_players['Position'] == 'TE'].reset_index(drop=True).drop(columns='Position').groupby('team').mean()"
   ],
   "metadata": {
    "collapsed": false,
    "pycharm": {
     "name": "#%%\n"
    }
   }
  },
  {
   "cell_type": "code",
   "execution_count": 110,
   "outputs": [],
   "source": [
    "dt_ratings = teams_best_2_players[teams_best_2_players['Position'] == 'DT'].reset_index(drop=True).drop(columns='Position').groupby('team').mean()"
   ],
   "metadata": {
    "collapsed": false,
    "pycharm": {
     "name": "#%%\n"
    }
   }
  },
  {
   "cell_type": "code",
   "execution_count": 111,
   "outputs": [],
   "source": [
    "cb_ratings = teams_best_2_players[teams_best_2_players['Position'] == 'CB'].reset_index(drop=True).drop(columns='Position').groupby('team').mean()"
   ],
   "metadata": {
    "collapsed": false,
    "pycharm": {
     "name": "#%%\n"
    }
   }
  },
  {
   "cell_type": "code",
   "execution_count": 112,
   "outputs": [],
   "source": [
    "combined_df = combined_df.merge(qb_ratings, how='left', left_on='posteam', right_index=True).rename(columns={'Overall': 'QB Rating'})"
   ],
   "metadata": {
    "collapsed": false,
    "pycharm": {
     "name": "#%%\n"
    }
   }
  },
  {
   "cell_type": "code",
   "execution_count": 113,
   "outputs": [],
   "source": [
    "combined_df = combined_df.merge(ol_ratings, how='left', left_on='posteam', right_index=True).rename(columns={'Overall': 'OL Rating'})"
   ],
   "metadata": {
    "collapsed": false,
    "pycharm": {
     "name": "#%%\n"
    }
   }
  },
  {
   "cell_type": "code",
   "execution_count": 114,
   "outputs": [],
   "source": [
    "combined_df = combined_df.merge(rb_ratings, how='left', left_on='posteam', right_index=True).rename(columns={'Overall': 'RB Rating'})"
   ],
   "metadata": {
    "collapsed": false,
    "pycharm": {
     "name": "#%%\n"
    }
   }
  },
  {
   "cell_type": "code",
   "execution_count": 115,
   "outputs": [],
   "source": [
    "combined_df = combined_df.merge(wr_ratings, how='left', left_on='posteam', right_index=True).rename(columns={'Overall': 'WR Rating'})"
   ],
   "metadata": {
    "collapsed": false,
    "pycharm": {
     "name": "#%%\n"
    }
   }
  },
  {
   "cell_type": "code",
   "execution_count": 116,
   "outputs": [],
   "source": [
    "combined_df = combined_df.merge(te_ratings, how='left', left_on='posteam', right_index=True).rename(columns={'Overall': 'TE Rating'})"
   ],
   "metadata": {
    "collapsed": false,
    "pycharm": {
     "name": "#%%\n"
    }
   }
  },
  {
   "cell_type": "code",
   "execution_count": 117,
   "outputs": [],
   "source": [
    "combined_df = combined_df.merge(lb_ratings, how='left', left_on='defteam', right_index=True).rename(columns={'Overall': 'LB Rating'})"
   ],
   "metadata": {
    "collapsed": false,
    "pycharm": {
     "name": "#%%\n"
    }
   }
  },
  {
   "cell_type": "code",
   "execution_count": 118,
   "outputs": [],
   "source": [
    "combined_df = combined_df.merge(dt_ratings, how='left', left_on='defteam', right_index=True).rename(columns={'Overall': 'DT Rating'})"
   ],
   "metadata": {
    "collapsed": false,
    "pycharm": {
     "name": "#%%\n"
    }
   }
  },
  {
   "cell_type": "code",
   "execution_count": 119,
   "outputs": [],
   "source": [
    "combined_df = combined_df.merge(de_ratings, how='left', left_on='defteam', right_index=True).rename(columns={'Overall': 'DE Rating'})"
   ],
   "metadata": {
    "collapsed": false,
    "pycharm": {
     "name": "#%%\n"
    }
   }
  },
  {
   "cell_type": "code",
   "execution_count": 120,
   "outputs": [],
   "source": [
    "combined_df = combined_df.merge(sfty_ratings, how='left', left_on='defteam', right_index=True).rename(columns={'Overall': 'SFTY Rating'})"
   ],
   "metadata": {
    "collapsed": false,
    "pycharm": {
     "name": "#%%\n"
    }
   }
  },
  {
   "cell_type": "code",
   "execution_count": 121,
   "outputs": [],
   "source": [
    "combined_df = combined_df.merge(cb_ratings, how='left', left_on='defteam', right_index=True).rename(columns={'Overall': 'CB Rating'})"
   ],
   "metadata": {
    "collapsed": false,
    "pycharm": {
     "name": "#%%\n"
    }
   }
  },
  {
   "cell_type": "code",
   "execution_count": 122,
   "outputs": [],
   "source": [
    "combined_df.to_csv('nfl_scrapr_plus_plyr_odds.csv')"
   ],
   "metadata": {
    "collapsed": false,
    "pycharm": {
     "name": "#%%\n"
    }
   }
  },
  {
   "cell_type": "code",
   "execution_count": null,
   "outputs": [],
   "source": [],
   "metadata": {
    "collapsed": false,
    "pycharm": {
     "name": "#%%\n"
    }
   }
  }
 ],
 "metadata": {
  "kernelspec": {
   "name": "pycharm-eb9e9a2d",
   "language": "python",
   "display_name": "PyCharm (DSC478)"
  },
  "language_info": {
   "codemirror_mode": {
    "name": "ipython",
    "version": 2
   },
   "file_extension": ".py",
   "mimetype": "text/x-python",
   "name": "python",
   "nbconvert_exporter": "python",
   "pygments_lexer": "ipython2",
   "version": "2.7.6"
  }
 },
 "nbformat": 4,
 "nbformat_minor": 0
}